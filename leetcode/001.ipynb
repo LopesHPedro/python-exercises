{
 "cells": [
  {
   "cell_type": "markdown",
   "id": "97e252a6",
   "metadata": {},
   "source": [
    "#### [1. Two Sum](https://leetcode.com/problems/two-sum/)"
   ]
  },
  {
   "cell_type": "code",
   "execution_count": null,
   "id": "593d87d3",
   "metadata": {},
   "outputs": [
    {
     "data": {
      "text/plain": [
       "[0, 1]"
      ]
     },
     "execution_count": 14,
     "metadata": {},
     "output_type": "execute_result"
    }
   ],
   "source": [
    "class Solution(object):\n",
    "    def twoSum(self, nums, target):\n",
    "        answer = []\n",
    "        for number in range(0, len(nums)- 1):\n",
    "            for num in range(number + 1 , (len(nums))):\n",
    "                if (nums[number]) + (nums[num]) == target:\n",
    "                    answer.append(number)\n",
    "                    answer.append(num)\n",
    "                    \n",
    "                    return answer\n",
    "\n",
    "# Input Example\n",
    "lista = [2, 7, 11, 15]\n",
    "t = 9\n",
    "TwoSum(lista, t)"
   ]
  },
  {
   "cell_type": "markdown",
   "id": "cee3223d",
   "metadata": {},
   "source": [
    "#### [2. Add Two Numbers](https://leetcode.com/problems/add-two-numbers/description/)"
   ]
  },
  {
   "cell_type": "code",
   "execution_count": null,
   "id": "4b8a8174",
   "metadata": {},
   "outputs": [],
   "source": []
  },
  {
   "cell_type": "markdown",
   "id": "0c5d7eab",
   "metadata": {},
   "source": []
  }
 ],
 "metadata": {
  "kernelspec": {
   "display_name": "base",
   "language": "python",
   "name": "python3"
  },
  "language_info": {
   "codemirror_mode": {
    "name": "ipython",
    "version": 3
   },
   "file_extension": ".py",
   "mimetype": "text/x-python",
   "name": "python",
   "nbconvert_exporter": "python",
   "pygments_lexer": "ipython3",
   "version": "3.9.13"
  }
 },
 "nbformat": 4,
 "nbformat_minor": 5
}
