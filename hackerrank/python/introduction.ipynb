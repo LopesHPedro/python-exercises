{
 "cells": [
  {
   "cell_type": "markdown",
   "id": "242970b2",
   "metadata": {},
   "source": [
    "#### [Say \"Hello, World!\" With Python](https://www.hackerrank.com/challenges/py-hello-world?isFullScreen=true)"
   ]
  },
  {
   "cell_type": "code",
   "execution_count": 18,
   "id": "cade640b",
   "metadata": {},
   "outputs": [
    {
     "name": "stdout",
     "output_type": "stream",
     "text": [
      "Hello, World!\n"
     ]
    }
   ],
   "source": [
    "if __name__ == '__main__':\n",
    "    print(\"Hello, World!\")"
   ]
  },
  {
   "cell_type": "markdown",
   "id": "f843c13d",
   "metadata": {},
   "source": [
    "#### [Python If-Else](https://www.hackerrank.com/challenges/py-if-else/problem?isFullScreen=true)"
   ]
  },
  {
   "cell_type": "code",
   "execution_count": null,
   "id": "4e08205f",
   "metadata": {},
   "outputs": [
    {
     "name": "stdout",
     "output_type": "stream",
     "text": [
      "Weird\n"
     ]
    }
   ],
   "source": [
    "#!/bin/python3\n",
    "\n",
    "import math\n",
    "import os\n",
    "import random\n",
    "import re\n",
    "import sys\n",
    "\n",
    "\n",
    "\n",
    "if __name__ == '__main__':\n",
    "    n = int(input().strip()) # 6 for example\n",
    "    \n",
    "    if n % 2 == 0:\n",
    "        if (n >= 2 and n <= 5) or n > 20:\n",
    "            print('Not Weird')\n",
    "        else:\n",
    "            print('Weird')\n",
    "    else:\n",
    "        print('Weird') "
   ]
  },
  {
   "cell_type": "markdown",
   "id": "1e9fe9c8",
   "metadata": {},
   "source": [
    "#### [Arithmetic Operators](https://www.hackerrank.com/challenges/python-arithmetic-operators/problem?isFullScreen=true)"
   ]
  },
  {
   "cell_type": "code",
   "execution_count": null,
   "id": "b33e69bc",
   "metadata": {},
   "outputs": [
    {
     "name": "stdout",
     "output_type": "stream",
     "text": [
      "10\n",
      "-6\n",
      "16\n"
     ]
    }
   ],
   "source": [
    "if __name__ == '__main__':\n",
    "    a = int(input()) # 2 for example\n",
    "    b = int(input()) # 8 for example\n",
    "\n",
    "    print(a + b)\n",
    "    print(a - b)\n",
    "    print(a * b)"
   ]
  },
  {
   "cell_type": "markdown",
   "id": "c0b51f70",
   "metadata": {},
   "source": [
    "#### [Python: Division](https://www.hackerrank.com/challenges/python-division/problem?isFullScreen=true)"
   ]
  },
  {
   "cell_type": "code",
   "execution_count": null,
   "id": "0b3b2514",
   "metadata": {},
   "outputs": [
    {
     "name": "stdout",
     "output_type": "stream",
     "text": [
      "0\n",
      "0.6\n"
     ]
    }
   ],
   "source": [
    "if __name__ == '__main__':\n",
    "    a = int(input()) # 3 for example\n",
    "    b = int(input()) # 5 for example\n",
    "\n",
    "    print(a // b)\n",
    "    print(a / b)"
   ]
  },
  {
   "cell_type": "markdown",
   "id": "740a022c",
   "metadata": {},
   "source": [
    "#### [Loops](https://www.hackerrank.com/challenges/python-loops/problem?isFullScreen=true)"
   ]
  },
  {
   "cell_type": "code",
   "execution_count": null,
   "id": "dc1b1256",
   "metadata": {},
   "outputs": [
    {
     "name": "stdout",
     "output_type": "stream",
     "text": [
      "0\n",
      "1\n",
      "4\n",
      "9\n",
      "16\n"
     ]
    }
   ],
   "source": [
    "if __name__ == '__main__':\n",
    "    n = int(input()) # 5 for example\n",
    "\n",
    "    for number in range(0, n):\n",
    "        print(number ** 2)"
   ]
  },
  {
   "cell_type": "markdown",
   "id": "66bd7bdf",
   "metadata": {},
   "source": [
    "#### [Write a function](https://www.hackerrank.com/challenges/write-a-function/problem?isFullScreen=true)"
   ]
  },
  {
   "cell_type": "code",
   "execution_count": 6,
   "id": "c8d1c839",
   "metadata": {},
   "outputs": [
    {
     "name": "stdout",
     "output_type": "stream",
     "text": [
      "False\n"
     ]
    }
   ],
   "source": [
    "def is_leap(year):\n",
    "    leap = False\n",
    "    \n",
    "    if year % 4 == 0:\n",
    "        if year % 100 != 0:\n",
    "            leap = True\n",
    "        elif (year % 100 == 0) and (year % 400 == 0):\n",
    "            leap = True\n",
    "    \n",
    "    return leap\n",
    "\n",
    "year = int(input()) # Example 1990\n",
    "print(is_leap(year))"
   ]
  },
  {
   "cell_type": "markdown",
   "id": "92a85104",
   "metadata": {},
   "source": [
    "#### [Print Function](https://www.hackerrank.com/challenges/python-print/problem?isFullScreen=true)"
   ]
  },
  {
   "cell_type": "code",
   "execution_count": 8,
   "id": "33ac7e24",
   "metadata": {},
   "outputs": [
    {
     "name": "stdout",
     "output_type": "stream",
     "text": [
      "123"
     ]
    }
   ],
   "source": [
    "if __name__ == '__main__':\n",
    "    n = int(input()) # Example 3\n",
    "\n",
    "    for number in range(1, n + 1):\n",
    "        print(f'{number}', end='')"
   ]
  }
 ],
 "metadata": {
  "kernelspec": {
   "display_name": "base",
   "language": "python",
   "name": "python3"
  },
  "language_info": {
   "codemirror_mode": {
    "name": "ipython",
    "version": 3
   },
   "file_extension": ".py",
   "mimetype": "text/x-python",
   "name": "python",
   "nbconvert_exporter": "python",
   "pygments_lexer": "ipython3",
   "version": "3.9.13"
  }
 },
 "nbformat": 4,
 "nbformat_minor": 5
}
